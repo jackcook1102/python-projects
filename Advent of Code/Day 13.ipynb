{
 "cells": [
  {
   "cell_type": "code",
   "execution_count": 1,
   "metadata": {
    "scrolled": true
   },
   "outputs": [
    {
     "data": {
      "text/plain": [
       "['1002394',\n",
       " '13,x,x,41,x,x,x,37,x,x,x,x,x,419,x,x,x,x,x,x,x,x,x,x,x,x,x,x,x,x,x,x,19,x,x,x,23,x,x,x,x,x,29,x,421,x,x,x,x,x,x,x,x,x,x,x,x,x,x,x,x,17']"
      ]
     },
     "execution_count": 1,
     "metadata": {},
     "output_type": "execute_result"
    }
   ],
   "source": [
    "# Open file and parse contents\n",
    "file = open('day13_inputs.txt')\n",
    "content = [line.strip() for line in file]\n",
    "\n",
    "content"
   ]
  },
  {
   "cell_type": "markdown",
   "metadata": {},
   "source": [
    "Input consists of 2 lines:\n",
    "- The earliest time you can depart (in minutes from a start time of 0 minutes)\n",
    "- A list of bus IDs\n",
    "\n",
    "Each bus' ID represents the frequency of the bus, for example: bus 7 would depart at 0, 7, 14, 21 etc. minutes, bus 13 at 0, 13, 26, 39 etc. minutes.\n",
    "\n",
    "An 'x' infers that you can ignore that bus."
   ]
  },
  {
   "cell_type": "markdown",
   "metadata": {},
   "source": [
    "### Part 1"
   ]
  },
  {
   "cell_type": "markdown",
   "metadata": {},
   "source": [
    "We want to find the **earliest** bus that we can take.\n",
    "\n",
    "For a departure time of >=939 minutes, and buses [7,13,59,31,19], the earliest bus would be the 59 at 944 minutes (59 * 16).\n",
    "\n",
    "We want the minutes waited (944 - 939) multiplied by the bus ID (59), 5 * 59 = 295."
   ]
  },
  {
   "cell_type": "code",
   "execution_count": 2,
   "metadata": {},
   "outputs": [
    {
     "data": {
      "text/plain": [
       "(1002394, [13, 41, 37, 419, 19, 23, 29, 421, 17])"
      ]
     },
     "execution_count": 2,
     "metadata": {},
     "output_type": "execute_result"
    }
   ],
   "source": [
    "earliest_dept = int(content[0])\n",
    "bus_ids = [int(bus_id) for bus_id in content[1].split(',') if bus_id != 'x']\n",
    "\n",
    "earliest_dept, bus_ids"
   ]
  },
  {
   "cell_type": "code",
   "execution_count": 3,
   "metadata": {},
   "outputs": [
    {
     "name": "stdout",
     "output_type": "stream",
     "text": [
      "Earliest bus 421, departing at 1002401, wait time 7, puzzle answer 2947\n"
     ]
    }
   ],
   "source": [
    "import itertools\n",
    "\n",
    "dept_time = earliest_dept\n",
    "earliest_bus_id = None\n",
    "\n",
    "# Repeat loop until we have a valid number\n",
    "for bus_id_list in itertools.repeat(bus_ids,10):\n",
    "    \n",
    "    # Check each bus_id\n",
    "    for bus_id in bus_id_list:\n",
    "        \n",
    "        if dept_time % bus_id == 0:\n",
    "            earliest_bus_id = bus_id\n",
    "    \n",
    "    \n",
    "    if earliest_bus_id is not None:\n",
    "        wait_time = dept_time-earliest_dept\n",
    "        print('Earliest bus {}, departing at {}, wait time {}, puzzle answer {}'.format(earliest_bus_id,\n",
    "                                                                                        dept_time,\n",
    "                                                                                        wait_time,\n",
    "                                                                                        wait_time*earliest_bus_id))\n",
    "        break\n",
    "    else:\n",
    "        dept_time+=1"
   ]
  },
  {
   "cell_type": "markdown",
   "metadata": {},
   "source": [
    "### Part 2"
   ]
  },
  {
   "cell_type": "markdown",
   "metadata": {},
   "source": [
    "Find the time at which each bus in the list departs 1 minute after the prior bus.\n",
    "\n",
    "e.g. for: 7,13,x,x,59,x,31,19, find the time t at which:\n",
    "- Bus 7 departs at t\n",
    "- Bus 13 departs at t+1\n",
    "- Bus 59 departs at t+4\n",
    "- Bus 31 departs at t+6\n",
    "- Bus 19 departs at t+7\n",
    "\n",
    "Disregard the first line of our input (earliest departure time).\n",
    "\n",
    "x's still don't matter (it could be any bus ID), but the position of our other bus IDs do."
   ]
  },
  {
   "cell_type": "code",
   "execution_count": 4,
   "metadata": {
    "scrolled": true
   },
   "outputs": [
    {
     "data": {
      "text/plain": [
       "[[13, 0],\n",
       " [41, 3],\n",
       " [37, 7],\n",
       " [419, 13],\n",
       " [19, 32],\n",
       " [23, 36],\n",
       " [29, 42],\n",
       " [421, 44],\n",
       " [17, 61]]"
      ]
     },
     "execution_count": 4,
     "metadata": {},
     "output_type": "execute_result"
    }
   ],
   "source": [
    "content_list = content[1].split(',')\n",
    "bus_ids_with_pos = [[int(content_list[i]), i] for i in range(len(content_list)) if content_list[i] != 'x']\n",
    "bus_ids_with_pos"
   ]
  },
  {
   "cell_type": "markdown",
   "metadata": {},
   "source": [
    "id1 * x = t\n",
    "id2 * y = t+1\n",
    "id2 * y - 1 = t\n"
   ]
  },
  {
   "cell_type": "code",
   "execution_count": null,
   "metadata": {},
   "outputs": [],
   "source": []
  },
  {
   "cell_type": "code",
   "execution_count": 11,
   "metadata": {},
   "outputs": [
    {
     "data": {
      "text/plain": [
       "(421, 44)"
      ]
     },
     "execution_count": 11,
     "metadata": {},
     "output_type": "execute_result"
    }
   ],
   "source": [
    "max_bus_id = 0\n",
    "max_bus_id_pos = 0\n",
    "\n",
    "for i in range(len(bus_ids_with_pos)):\n",
    "    if bus_ids_with_pos[i][0] > max_bus_id:\n",
    "        max_bus_id, max_bus_id_pos = bus_ids_with_pos[i]\n",
    "\n",
    "max_bus_id, max_bus_id_pos    "
   ]
  },
  {
   "cell_type": "markdown",
   "metadata": {},
   "source": [
    "Alter our list"
   ]
  },
  {
   "cell_type": "code",
   "execution_count": 12,
   "metadata": {},
   "outputs": [
    {
     "data": {
      "text/plain": [
       "[[13, -44],\n",
       " [41, -41],\n",
       " [37, -37],\n",
       " [419, -31],\n",
       " [19, -12],\n",
       " [23, -8],\n",
       " [29, -2],\n",
       " [421, 0],\n",
       " [17, 17]]"
      ]
     },
     "execution_count": 12,
     "metadata": {},
     "output_type": "execute_result"
    }
   ],
   "source": [
    "import copy\n",
    "bus_ids_with_pos_alt = copy.deepcopy(bus_ids_with_pos)\n",
    "\n",
    "for i in range(len(bus_ids_with_pos)):\n",
    "    bus_ids_with_pos_alt[i][1] -=  max_bus_id_pos\n",
    "\n",
    "bus_ids_with_pos_alt"
   ]
  },
  {
   "cell_type": "code",
   "execution_count": null,
   "metadata": {},
   "outputs": [],
   "source": [
    "# Departure time t must be a multiple of the max bus_id\n",
    "dept_time_list = [max_bus_id*i for i in range(1,100000000000)]\n",
    "\n",
    "for t in dept_time_list:\n",
    "    t_compatible = True\n",
    "    \n",
    "    # We can ignore the first bus_id as our list of t's will all be compatible\n",
    "    for bus_id, offset in bus_ids_with_pos_alt:\n",
    "        if (t+offset) % bus_id != 0:\n",
    "            t_compatible = False\n",
    "            break\n",
    "    \n",
    "    if t_compatible:\n",
    "        print('Compatible timestamp {}'.format(t))\n",
    "        break"
   ]
  }
 ],
 "metadata": {
  "kernelspec": {
   "display_name": "Python 3",
   "language": "python",
   "name": "python3"
  },
  "language_info": {
   "codemirror_mode": {
    "name": "ipython",
    "version": 3
   },
   "file_extension": ".py",
   "mimetype": "text/x-python",
   "name": "python",
   "nbconvert_exporter": "python",
   "pygments_lexer": "ipython3",
   "version": "3.7.6"
  }
 },
 "nbformat": 4,
 "nbformat_minor": 4
}
