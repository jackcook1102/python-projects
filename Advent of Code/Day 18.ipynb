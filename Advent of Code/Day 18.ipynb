{
 "cells": [
  {
   "cell_type": "code",
   "execution_count": 39,
   "metadata": {
    "scrolled": true
   },
   "outputs": [
    {
     "name": "stdout",
     "output_type": "stream",
     "text": [
      "['2', '*', '3', '+', '(4', '*', '5)']\n",
      "['2', '*', '3', '+', '(4', '*', '(1', '*', '2)', '+', '(2', '*', '3))']\n",
      "['5', '+', '(8', '*', '3', '+', '9', '+', '3', '*', '4', '*', '3)']\n",
      "['5', '*', '9', '*', '(7', '*', '3', '*', '3', '+', '9', '*', '3', '+', '(8', '+', '6', '*', '4))']\n"
     ]
    }
   ],
   "source": [
    "with open('day18_inputs.txt') as f:\n",
    "    content = [l.strip('\\n').split(' ') for l in f]\n",
    "\n",
    "for l in content:\n",
    "    print(l)"
   ]
  },
  {
   "cell_type": "markdown",
   "metadata": {},
   "source": [
    "### Part 1 "
   ]
  },
  {
   "cell_type": "markdown",
   "metadata": {},
   "source": [
    "Evaluate the expressions:\n",
    "- Parentheses must be evaluated first\n",
    "- BODMAS doesn't apply, precedence of calculations is just from left to right\n",
    "\n",
    "e.g. with BODMAS, 5 + 3 * 2 would = 11, but in this case it would equal 16"
   ]
  },
  {
   "cell_type": "markdown",
   "metadata": {},
   "source": [
    "#### First we get the nesting of the calculation"
   ]
  },
  {
   "cell_type": "code",
   "execution_count": 100,
   "metadata": {},
   "outputs": [
    {
     "data": {
      "text/plain": [
       "['5',\n",
       " '*',\n",
       " '9',\n",
       " '*',\n",
       " '(7',\n",
       " '*',\n",
       " '3',\n",
       " '*',\n",
       " '3',\n",
       " '+',\n",
       " '9',\n",
       " '*',\n",
       " '3',\n",
       " '+',\n",
       " '(8',\n",
       " '+',\n",
       " '6',\n",
       " '*',\n",
       " '4))']"
      ]
     },
     "execution_count": 100,
     "metadata": {},
     "output_type": "execute_result"
    }
   ],
   "source": [
    "test = '5 * 9 * (7 * 3 * 3 + 9 * 3 + (8 + 6 * 4))'.split(' ') #content[0]\n",
    "test"
   ]
  },
  {
   "cell_type": "code",
   "execution_count": 102,
   "metadata": {},
   "outputs": [
    {
     "name": "stdout",
     "output_type": "stream",
     "text": [
      "Original string: 5 * 9 * (7 * 3 * 3 + 9 * 3 + (8 + 6 * 4))\n",
      "Clean string: ['5', '*', '9', '*', '7', '*', '3', '*', '3', '+', '9', '*', '3', '+', '8', '+', '6', '*', '4']\n",
      "Nesting: [0, 0, 0, 0, 1, 1, 1, 1, 1, 1, 1, 1, 1, 1, 2, 2, 2, 2, 2]\n",
      "level 2\n",
      "['8', '+', '6', '*', '4']\n",
      "Calculating operation of first 3 elements, total length left: 5\n",
      "[14, '*', '4']\n",
      "Calculating operation of first 3 elements, total length left: 3\n",
      "[56]\n",
      "level 1\n",
      "['7', '*', '3', '*', '3', '+', '9', '*', '3', '+', '56']\n",
      "Calculating operation of first 3 elements, total length left: 11\n",
      "[21, '*', '3', '+', '9', '*', '3', '+', '56']\n",
      "Calculating operation of first 3 elements, total length left: 9\n",
      "[63, '+', '9', '*', '3', '+', '56']\n",
      "Calculating operation of first 3 elements, total length left: 7\n",
      "[72, '*', '3', '+', '56']\n",
      "Calculating operation of first 3 elements, total length left: 5\n",
      "[216, '+', '56']\n",
      "Calculating operation of first 3 elements, total length left: 3\n",
      "[272]\n",
      "level 0\n",
      "['5', '*', '9', '*', '272']\n",
      "Calculating operation of first 3 elements, total length left: 5\n",
      "[45, '*', '272']\n",
      "Calculating operation of first 3 elements, total length left: 3\n",
      "[12240]\n",
      "[('12240', -1, 0)]\n"
     ]
    }
   ],
   "source": [
    "import copy\n",
    "\n",
    "def get_nesting(calc_str):\n",
    "    # Takes calc_str and returns a list of how many layers nested an item is in the string\n",
    "    \n",
    "    list_nesting = []\n",
    "    nesting = 0\n",
    "    for c in calc_str:\n",
    "        # Nesting increases for a digit when it's inside open bracket(s)\n",
    "        nesting += c.count('(')\n",
    "        list_nesting.append(nesting)\n",
    "        \n",
    "        # Nesting decreases for the NEXT digit if the current digit has closed bracket(s)\n",
    "        nesting -= c.count(')')\n",
    "    \n",
    "    return list_nesting\n",
    "\n",
    "\n",
    "def operator_by_order(calc_list):\n",
    "    # Given a calc_list, takes the first 3 elements and applies the middle operator\n",
    "    # Returns an int\n",
    "    # eg. ['3','+','5','*','6'] would be parsed as 3+5 and return 8\n",
    "    a, op, b = calc_list[:3]\n",
    "    return eval('{}{}{}'.format(a,op,b))\n",
    "\n",
    "\n",
    "for i in range(3):\n",
    "    \n",
    "    # Assign calculation string\n",
    "    calc_str = test\n",
    "    \n",
    "    # Get nesting at each position, then strip ( ) from the list\n",
    "    calc_str_nesting = get_nesting(calc_str)\n",
    "    calc_str_clean = [n.replace('(','').replace(')','') for n in calc_str]\n",
    "    \n",
    "    print('Original string:',' '.join(calc_str))\n",
    "    print('Clean string:',calc_str_clean)\n",
    "    print('Nesting:',calc_str_nesting)\n",
    "    \n",
    "    # Then, join each element of the calculation, it's nesting, and it's position\n",
    "    calc_str_w_nesting_and_pos = list(zip(calc_str_clean, \n",
    "                                      calc_str_nesting, \n",
    "                                      [i for i in range(len(calc_str_clean))]))\n",
    "    \n",
    "    # Loop through each level of nesting, starting with max nesting\n",
    "    for level in reversed(list(set(calc_str_nesting))):\n",
    "        print('level',level)\n",
    "        calc_str_filt = [c for c in calc_str_w_nesting_and_pos if c[1] == level]\n",
    "        print(calc_str_filt)\n",
    "        \n",
    "        # Figure out how many separate equations to evaluate at this level of nesting\n",
    "        calc_str_filt_w_tranches = []\n",
    "        for i in range(len(calc_str_filt)):\n",
    "            tranche = 0\n",
    "            c = calc_str_filt[i]\n",
    "            if i == 0:\n",
    "                calc_str_filt_w_tranches.append([c[0], tranche])\n",
    "            else:\n",
    "                c_prior = calc_str_filt[i-1]\n",
    "                if c[1] != c_prior[1] + 1:\n",
    "                    tranche+=1\n",
    "                calc_str_filt_w_tranches.append([c[0], tranche])\n",
    "                    \n",
    "        \n",
    "        for i in range(tranche):\n",
    "            calc_str_filt_tranche = [c[0] for c in calc_str_filt_w_tranches if c[1] == i]\n",
    "            # Repeat until whole equation is evaluated\n",
    "            while len(calc_str_filt_tranche) > 1:\n",
    "                print('Calculating operation of first 3 elements, total length left: {}'.format(len(calc_str_filt_tranche)))\n",
    "                calc_str_filt_new = [operator_by_order(calc_str_filt_tranche[:3])]\n",
    "                # Append anything yet to be evaluated\n",
    "                if len(calc_str_filt_tranche) > 3:\n",
    "                    calc_str_filt_tranche_new.extend(calc_str_filt_tranche[3:])\n",
    "\n",
    "                calc_str_filt_tranche = calc_str_filt_tranche_new\n",
    "                print(calc_str_filt_tranche)\n",
    "\n",
    "            calc_str_filt = str(calc_str_filt[0])\n",
    "        \n",
    "        \n",
    "        # Create new calculation string using evaluated results\n",
    "        calc_str_w_nesting_and_pos_new = []\n",
    "        for i in range(len(calc_str_w_nesting_and_pos)):\n",
    "            c = calc_str_w_nesting_and_pos[i]\n",
    "            \n",
    "            if i == 0 or c[1] < level:\n",
    "                if c[1] == level:\n",
    "                    calc_str_w_nesting_and_pos_new.append([calc_str_filt, level-1])\n",
    "                if c[1] < level:\n",
    "                    calc_str_w_nesting_and_pos_new.append([c[0], c[1]])\n",
    "            else:\n",
    "                c_prior = calc_str_w_nesting_and_pos[i-1]\n",
    "                if c_prior[1] != level:\n",
    "                    calc_str_w_nesting_and_pos_new.append([calc_str_filt, level-1])\n",
    "            \n",
    "            \n",
    "        calc_str_w_nesting_and_pos = list(zip([c[0] for c in calc_str_w_nesting_and_pos_new],\n",
    "                                              [c[1] for c in calc_str_w_nesting_and_pos_new],\n",
    "                                              [i for i in range(len(calc_str_w_nesting_and_pos_new))]))\n",
    "            \n",
    "                    \n",
    "        \n",
    "        \n",
    "    print(calc_str_w_nesting_and_pos)\n",
    "    break"
   ]
  }
 ],
 "metadata": {
  "kernelspec": {
   "display_name": "Python 3",
   "language": "python",
   "name": "python3"
  },
  "language_info": {
   "codemirror_mode": {
    "name": "ipython",
    "version": 3
   },
   "file_extension": ".py",
   "mimetype": "text/x-python",
   "name": "python",
   "nbconvert_exporter": "python",
   "pygments_lexer": "ipython3",
   "version": "3.8.6"
  }
 },
 "nbformat": 4,
 "nbformat_minor": 4
}
