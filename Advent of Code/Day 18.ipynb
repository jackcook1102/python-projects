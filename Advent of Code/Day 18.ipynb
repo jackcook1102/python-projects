{
 "cells": [
  {
   "cell_type": "code",
   "execution_count": 39,
   "metadata": {
    "scrolled": true
   },
   "outputs": [
    {
     "name": "stdout",
     "output_type": "stream",
     "text": [
      "['2', '*', '3', '+', '(4', '*', '5)']\n",
      "['2', '*', '3', '+', '(4', '*', '(1', '*', '2)', '+', '(2', '*', '3))']\n",
      "['5', '+', '(8', '*', '3', '+', '9', '+', '3', '*', '4', '*', '3)']\n",
      "['5', '*', '9', '*', '(7', '*', '3', '*', '3', '+', '9', '*', '3', '+', '(8', '+', '6', '*', '4))']\n"
     ]
    }
   ],
   "source": [
    "with open('day18_inputs.txt') as f:\n",
    "    content = [l.strip('\\n').split(' ') for l in f]\n",
    "\n",
    "for l in content:\n",
    "    print(l)"
   ]
  },
  {
   "cell_type": "markdown",
   "metadata": {},
   "source": [
    "### Part 1 "
   ]
  },
  {
   "cell_type": "markdown",
   "metadata": {},
   "source": [
    "Evaluate the expressions:\n",
    "- Parentheses must be evaluated first\n",
    "- BODMAS doesn't apply, precedence of calculations is just from left to right\n",
    "\n",
    "e.g. with BODMAS, 5 + 3 * 2 would = 11, but in this case it would equal 16"
   ]
  },
  {
   "cell_type": "markdown",
   "metadata": {},
   "source": [
    "#### First we get the nesting of the calculation"
   ]
  },
  {
   "cell_type": "code",
   "execution_count": 42,
   "metadata": {},
   "outputs": [
    {
     "data": {
      "text/plain": [
       "['2', '*', '3', '+', '(4', '*', '5)']"
      ]
     },
     "execution_count": 42,
     "metadata": {},
     "output_type": "execute_result"
    }
   ],
   "source": [
    "test = content[0]\n",
    "test"
   ]
  },
  {
   "cell_type": "markdown",
   "metadata": {},
   "source": [
    "#### Then we calculate in order of nesting"
   ]
  },
  {
   "cell_type": "code",
   "execution_count": 68,
   "metadata": {},
   "outputs": [
    {
     "name": "stdout",
     "output_type": "stream",
     "text": [
      "2 * 3 + (4 * 5) ['2', '*', '3', '+', '4', '*', '5']\n"
     ]
    }
   ],
   "source": [
    "calc_str_nesting = get_nesting(test)\n",
    "calc_str_clean = [n.replace('(','').replace(')','') for n in test]\n",
    "\n",
    "print(' '.join(test),calc_str_clean)"
   ]
  },
  {
   "cell_type": "code",
   "execution_count": 70,
   "metadata": {},
   "outputs": [
    {
     "data": {
      "text/plain": [
       "[('2', 0, 0),\n",
       " ('*', 0, 1),\n",
       " ('3', 0, 2),\n",
       " ('+', 0, 3),\n",
       " ('4', 1, 4),\n",
       " ('*', 1, 5),\n",
       " ('5', 1, 6)]"
      ]
     },
     "execution_count": 70,
     "metadata": {},
     "output_type": "execute_result"
    }
   ],
   "source": [
    "calc_str_w_nesting_and_pos = list(zip(calc_str_clean, \n",
    "                                      calc_str_nesting, \n",
    "                                      [i for i in range(len(calc_str_clean))]))\n",
    "calc_str_w_nesting_and_pos"
   ]
  },
  {
   "cell_type": "code",
   "execution_count": 55,
   "metadata": {},
   "outputs": [
    {
     "data": {
      "text/plain": [
       "['4', '*', '5']"
      ]
     },
     "execution_count": 55,
     "metadata": {},
     "output_type": "execute_result"
    }
   ],
   "source": [
    "[c[0] for c in calc_str_w_nesting if c[1]==1]"
   ]
  },
  {
   "cell_type": "code",
   "execution_count": 63,
   "metadata": {},
   "outputs": [
    {
     "data": {
      "text/plain": [
       "12"
      ]
     },
     "execution_count": 63,
     "metadata": {},
     "output_type": "execute_result"
    }
   ],
   "source": [
    "def operator_by_order(calc_list):\n",
    "    a, op, b = calc_list[:3]\n",
    "    return eval('{}{}{}'.format(a,op,b))\n",
    "    \n",
    "operator_by_order(['3', '+', '9', '*', '3'])"
   ]
  },
  {
   "cell_type": "code",
   "execution_count": 74,
   "metadata": {},
   "outputs": [
    {
     "name": "stdout",
     "output_type": "stream",
     "text": [
      "Original string: 2 * 3 + (4 * 5)\n",
      "Clean string: ['2', '*', '3', '+', '4', '*', '5']\n",
      "Nesting: [0, 0, 0, 0, 1, 1, 1]\n",
      "[('2', 0, 0), ('*', 0, 1), ('3', 0, 2), ('+', 0, 3), ('4', 1, 4), ('*', 1, 5), ('5', 1, 6)]\n"
     ]
    }
   ],
   "source": [
    "import copy\n",
    "\n",
    "def get_nesting(calc_str):\n",
    "    # Takes calc_str and returns a list of how many layers nested an item is in the string\n",
    "    \n",
    "    list_nesting = []\n",
    "    nesting = 0\n",
    "    for c in calc_str:\n",
    "        # Nesting increases for a digit when it's inside open bracket(s)\n",
    "        nesting += c.count('(')\n",
    "        list_nesting.append(nesting)\n",
    "        \n",
    "        # Nesting decreases for the NEXT digit if the current digit has closed bracket(s)\n",
    "        nesting -= c.count(')')\n",
    "    \n",
    "    return list_nesting\n",
    "\n",
    "\n",
    "def operator_by_order(calc_list):\n",
    "    # Given a calc_list, takes the first 3 elements and applies the middle operator\n",
    "    # Returns an int\n",
    "    # eg. ['3','+','5','*','6'] would be parsed as 3+5 and return 8\n",
    "    a, op, b = calc_list[:3]\n",
    "    return eval('{}{}{}'.format(a,op,b))\n",
    "\n",
    "\n",
    "for i in range(3):\n",
    "    \n",
    "    # Assign calculation string\n",
    "    calc_str = test\n",
    "    \n",
    "    # Get nesting at each position, then strip ( ) from the list\n",
    "    calc_str_nesting = get_nesting(calc_str)\n",
    "    calc_str_clean = [n.replace('(','').replace(')','') for n in calc_str]\n",
    "    \n",
    "    print('Original string:',' '.join(calc_str))\n",
    "    print('Clean string:',calc_str_clean)\n",
    "    print('Nesting:',calc_str_nesting)\n",
    "    \n",
    "    # Then, join each element of the calculation, it's nesting, and it's position\n",
    "    calc_str_w_nesting_and_pos = list(zip(calc_str_clean, \n",
    "                                      calc_str_nesting, \n",
    "                                      [i for i in range(len(calc_str_clean))]))\n",
    "    \n",
    "    # Loop through each level of nesting, starting with max nesting\n",
    "    for level in reversed(list(set(calc_str_nesting))):\n",
    "        \n",
    "        calc_str_w_nesting_and_pos_new = copy.deepcopy(calc_str_w_nesting_and_pos)\n",
    "        \n",
    "        \n",
    "    print(calc_str_w_nesting_and_pos)\n",
    "    break"
   ]
  }
 ],
 "metadata": {
  "kernelspec": {
   "display_name": "Python 3",
   "language": "python",
   "name": "python3"
  },
  "language_info": {
   "codemirror_mode": {
    "name": "ipython",
    "version": 3
   },
   "file_extension": ".py",
   "mimetype": "text/x-python",
   "name": "python",
   "nbconvert_exporter": "python",
   "pygments_lexer": "ipython3",
   "version": "3.8.6"
  }
 },
 "nbformat": 4,
 "nbformat_minor": 4
}
